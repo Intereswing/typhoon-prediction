{
 "cells": [
  {
   "cell_type": "code",
   "id": "initial_id",
   "metadata": {
    "collapsed": true,
    "ExecuteTime": {
     "end_time": "2025-06-14T08:52:54.219963Z",
     "start_time": "2025-06-14T08:52:51.987213Z"
    }
   },
   "source": [
    "import torch\n",
    "import numpy as np\n",
    "from pathlib import Path\n",
    "import xarray as xr\n",
    "\n",
    "era5_dir = Path(\"/data/jiyilun/typhoon/download/era5\")\n",
    "corrupt_files = [\"2011091712\", \"2012092518\", \"2012100800\", \"2014071112\", \"2014101000\"]\n",
    "for era5_file in [era5_dir / f\"{hour}.nc\" for hour in corrupt_files]:\n",
    "    right = True\n",
    "    era5_hour = xr.open_dataset(era5_file)\n",
    "    for var in era5_hour.data_vars:\n",
    "        if np.isnan(era5_hour[var].values).any():\n",
    "            print(f\"NaN found in {era5_file.stem}.{var}\")\n",
    "            print(f\"NaN proportion: {np.isnan(era5_hour[var].values).mean()}\")\n",
    "            right = False\n",
    "    if right:\n",
    "        print(f\"File {era5_file.stem} is OK.\")\n",
    "    else:\n",
    "        print(f\"File {era5_file.stem} is corrupt.\")\n",
    "        corrupt_files.append(era5_file)\n",
    "print(corrupt_files)\n"
   ],
   "outputs": [
    {
     "name": "stdout",
     "output_type": "stream",
     "text": [
      "File 2011091712 is OK.\n",
      "File 2012092518 is OK.\n",
      "File 2012100800 is OK.\n",
      "File 2014071112 is OK.\n",
      "File 2014101000 is OK.\n",
      "['2011091712', '2012092518', '2012100800', '2014071112', '2014101000']\n"
     ]
    }
   ],
   "execution_count": 14
  },
  {
   "metadata": {
    "ExecuteTime": {
     "end_time": "2025-06-14T08:33:27.874057Z",
     "start_time": "2025-06-14T08:32:49.024502Z"
    }
   },
   "cell_type": "code",
   "source": [
    "import xarray as xr\n",
    "import pandas as pd\n",
    "from datetime import datetime\n",
    "from pathlib import Path\n",
    "era5_dir = Path(\"/data/jiyilun/typhoon/download/era5\")\n",
    "url = \"gs://weatherbench2/datasets/era5/1959-2023_01_10-wb13-6h-1440x721_with_derived_variables.zarr\"\n",
    "era5_ds = xr.open_zarr(url)"
   ],
   "id": "3675c5b783bd28db",
   "outputs": [],
   "execution_count": 2
  },
  {
   "metadata": {
    "ExecuteTime": {
     "end_time": "2025-06-14T08:48:25.724841Z",
     "start_time": "2025-06-14T08:46:59.088374Z"
    }
   },
   "cell_type": "code",
   "source": [
    "time_str = \"2014101000\"\n",
    "var_names = [\n",
    "    \"10m_u_component_of_wind\",\n",
    "    \"10m_v_component_of_wind\",\n",
    "    \"2m_temperature\",\n",
    "    \"mean_sea_level_pressure\",\n",
    "    \"temperature\",\n",
    "    \"u_component_of_wind\",\n",
    "    \"v_component_of_wind\",\n",
    "    \"specific_humidity\",\n",
    "    \"geopotential\",\n",
    "]\n",
    "\n",
    "ds_hour = era5_ds[var_names].sel(\n",
    "    time=pd.to_datetime(time_str, format=\"%Y%m%d%H\")\n",
    ").compute()"
   ],
   "id": "42ecf69b5773c8fe",
   "execution_count": 12,
   "outputs": []
  },
  {
   "metadata": {
    "ExecuteTime": {
     "end_time": "2025-06-14T08:49:00.373138Z",
     "start_time": "2025-06-14T08:48:57.995235Z"
    }
   },
   "cell_type": "code",
   "source": "ds_hour.to_netcdf(era5_dir / f\"{time_str}.nc\")",
   "id": "5307ba17968111b9",
   "outputs": [],
   "execution_count": 13
  },
  {
   "metadata": {
    "ExecuteTime": {
     "end_time": "2025-06-05T07:16:15.766967Z",
     "start_time": "2025-06-05T07:16:03.462198Z"
    }
   },
   "cell_type": "code",
   "source": [
    "var_names = [\n",
    "    \"10m_u_component_of_wind\",\n",
    "    \"10m_v_component_of_wind\",\n",
    "    \"2m_temperature\",\n",
    "    \"mean_sea_level_pressure\",\n",
    "    \"temperature\",\n",
    "    \"u_component_of_wind\",\n",
    "    \"v_component_of_wind\",\n",
    "    \"specific_humidity\",\n",
    "    \"geopotential\",\n",
    "]\n",
    "print(era5_ds[\"geopotential\"].sel(\n",
    "        time=datetime(2018, 8, 5, 0)\n",
    "    ).isel(\n",
    "        longitude=slice(400, 720),\n",
    "        latitude=slice(121, 361)\n",
    "    ).values - era5_ds_hour[\"geopotential\"].values)"
   ],
   "id": "d44ff482aa7fdb2f",
   "outputs": [
    {
     "name": "stdout",
     "output_type": "stream",
     "text": [
      "[[[0. 0. 0. ... 0. 0. 0.]\n",
      "  [0. 0. 0. ... 0. 0. 0.]\n",
      "  [0. 0. 0. ... 0. 0. 0.]\n",
      "  ...\n",
      "  [0. 0. 0. ... 0. 0. 0.]\n",
      "  [0. 0. 0. ... 0. 0. 0.]\n",
      "  [0. 0. 0. ... 0. 0. 0.]]\n",
      "\n",
      " [[0. 0. 0. ... 0. 0. 0.]\n",
      "  [0. 0. 0. ... 0. 0. 0.]\n",
      "  [0. 0. 0. ... 0. 0. 0.]\n",
      "  ...\n",
      "  [0. 0. 0. ... 0. 0. 0.]\n",
      "  [0. 0. 0. ... 0. 0. 0.]\n",
      "  [0. 0. 0. ... 0. 0. 0.]]\n",
      "\n",
      " [[0. 0. 0. ... 0. 0. 0.]\n",
      "  [0. 0. 0. ... 0. 0. 0.]\n",
      "  [0. 0. 0. ... 0. 0. 0.]\n",
      "  ...\n",
      "  [0. 0. 0. ... 0. 0. 0.]\n",
      "  [0. 0. 0. ... 0. 0. 0.]\n",
      "  [0. 0. 0. ... 0. 0. 0.]]\n",
      "\n",
      " ...\n",
      "\n",
      " [[0. 0. 0. ... 0. 0. 0.]\n",
      "  [0. 0. 0. ... 0. 0. 0.]\n",
      "  [0. 0. 0. ... 0. 0. 0.]\n",
      "  ...\n",
      "  [0. 0. 0. ... 0. 0. 0.]\n",
      "  [0. 0. 0. ... 0. 0. 0.]\n",
      "  [0. 0. 0. ... 0. 0. 0.]]\n",
      "\n",
      " [[0. 0. 0. ... 0. 0. 0.]\n",
      "  [0. 0. 0. ... 0. 0. 0.]\n",
      "  [0. 0. 0. ... 0. 0. 0.]\n",
      "  ...\n",
      "  [0. 0. 0. ... 0. 0. 0.]\n",
      "  [0. 0. 0. ... 0. 0. 0.]\n",
      "  [0. 0. 0. ... 0. 0. 0.]]\n",
      "\n",
      " [[0. 0. 0. ... 0. 0. 0.]\n",
      "  [0. 0. 0. ... 0. 0. 0.]\n",
      "  [0. 0. 0. ... 0. 0. 0.]\n",
      "  ...\n",
      "  [0. 0. 0. ... 0. 0. 0.]\n",
      "  [0. 0. 0. ... 0. 0. 0.]\n",
      "  [0. 0. 0. ... 0. 0. 0.]]]\n"
     ]
    }
   ],
   "execution_count": 53
  }
 ],
 "metadata": {
  "kernelspec": {
   "display_name": "Python 3",
   "language": "python",
   "name": "python3"
  },
  "language_info": {
   "codemirror_mode": {
    "name": "ipython",
    "version": 2
   },
   "file_extension": ".py",
   "mimetype": "text/x-python",
   "name": "python",
   "nbconvert_exporter": "python",
   "pygments_lexer": "ipython2",
   "version": "2.7.6"
  }
 },
 "nbformat": 4,
 "nbformat_minor": 5
}
