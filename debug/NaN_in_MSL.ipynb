{
 "cells": [
  {
   "cell_type": "code",
   "id": "initial_id",
   "metadata": {
    "collapsed": true,
    "ExecuteTime": {
     "end_time": "2025-06-30T11:34:26.891896Z",
     "start_time": "2025-06-30T11:34:21.498665Z"
    }
   },
   "source": [
    "import torch\n",
    "import numpy as np\n",
    "from pathlib import Path\n",
    "import xarray as xr\n",
    "\n",
    "era5_dir = Path(\"/data1/jiyilun/typhoon/era5\")\n",
    "corrupt_files = []\n",
    "for era5_file in sorted(era5_dir.glob('*.nc')):\n",
    "# for era5_file in []:\n",
    "    right = True\n",
    "    era5_hour = xr.open_dataset(era5_file)\n",
    "    for var in era5_hour.data_vars:\n",
    "        if np.isnan(era5_hour[var].values).any():\n",
    "            print(f\"NaN found in {era5_file.stem}.{var}\")\n",
    "            print(f\"NaN proportion: {np.isnan(era5_hour[var].values).mean()}\")\n",
    "            right = False\n",
    "    if right:\n",
    "        print(f\"File {era5_file.stem} is OK.\")\n",
    "    else:\n",
    "        print(f\"File {era5_file.stem} is corrupt.\")\n",
    "        corrupt_files.append(era5_file)\n",
    "print(corrupt_files)\n"
   ],
   "outputs": [
    {
     "name": "stdout",
     "output_type": "stream",
     "text": [
      "File 2011050706 is OK.\n"
     ]
    },
    {
     "ename": "KeyboardInterrupt",
     "evalue": "",
     "output_type": "error",
     "traceback": [
      "\u001B[0;31m---------------------------------------------------------------------------\u001B[0m",
      "\u001B[0;31mKeyboardInterrupt\u001B[0m                         Traceback (most recent call last)",
      "Cell \u001B[0;32mIn[6], line 12\u001B[0m\n\u001B[1;32m     10\u001B[0m era5_hour \u001B[38;5;241m=\u001B[39m xr\u001B[38;5;241m.\u001B[39mopen_dataset(era5_file)\n\u001B[1;32m     11\u001B[0m \u001B[38;5;28;01mfor\u001B[39;00m var \u001B[38;5;129;01min\u001B[39;00m era5_hour\u001B[38;5;241m.\u001B[39mdata_vars:\n\u001B[0;32m---> 12\u001B[0m     \u001B[38;5;28;01mif\u001B[39;00m np\u001B[38;5;241m.\u001B[39misnan(\u001B[43mera5_hour\u001B[49m\u001B[43m[\u001B[49m\u001B[43mvar\u001B[49m\u001B[43m]\u001B[49m\u001B[38;5;241;43m.\u001B[39;49m\u001B[43mvalues\u001B[49m)\u001B[38;5;241m.\u001B[39many():\n\u001B[1;32m     13\u001B[0m         \u001B[38;5;28mprint\u001B[39m(\u001B[38;5;124mf\u001B[39m\u001B[38;5;124m\"\u001B[39m\u001B[38;5;124mNaN found in \u001B[39m\u001B[38;5;132;01m{\u001B[39;00mera5_file\u001B[38;5;241m.\u001B[39mstem\u001B[38;5;132;01m}\u001B[39;00m\u001B[38;5;124m.\u001B[39m\u001B[38;5;132;01m{\u001B[39;00mvar\u001B[38;5;132;01m}\u001B[39;00m\u001B[38;5;124m\"\u001B[39m)\n\u001B[1;32m     14\u001B[0m         \u001B[38;5;28mprint\u001B[39m(\u001B[38;5;124mf\u001B[39m\u001B[38;5;124m\"\u001B[39m\u001B[38;5;124mNaN proportion: \u001B[39m\u001B[38;5;132;01m{\u001B[39;00mnp\u001B[38;5;241m.\u001B[39misnan(era5_hour[var]\u001B[38;5;241m.\u001B[39mvalues)\u001B[38;5;241m.\u001B[39mmean()\u001B[38;5;132;01m}\u001B[39;00m\u001B[38;5;124m\"\u001B[39m)\n",
      "File \u001B[0;32m~/miniconda3/envs/dl/lib/python3.10/site-packages/xarray/core/dataarray.py:797\u001B[0m, in \u001B[0;36mDataArray.values\u001B[0;34m(self)\u001B[0m\n\u001B[1;32m    784\u001B[0m \u001B[38;5;129m@property\u001B[39m\n\u001B[1;32m    785\u001B[0m \u001B[38;5;28;01mdef\u001B[39;00m\u001B[38;5;250m \u001B[39m\u001B[38;5;21mvalues\u001B[39m(\u001B[38;5;28mself\u001B[39m) \u001B[38;5;241m-\u001B[39m\u001B[38;5;241m>\u001B[39m np\u001B[38;5;241m.\u001B[39mndarray:\n\u001B[1;32m    786\u001B[0m \u001B[38;5;250m    \u001B[39m\u001B[38;5;124;03m\"\"\"\u001B[39;00m\n\u001B[1;32m    787\u001B[0m \u001B[38;5;124;03m    The array's data converted to numpy.ndarray.\u001B[39;00m\n\u001B[1;32m    788\u001B[0m \n\u001B[0;32m   (...)\u001B[0m\n\u001B[1;32m    795\u001B[0m \u001B[38;5;124;03m    to this array may be reflected in the DataArray as well.\u001B[39;00m\n\u001B[1;32m    796\u001B[0m \u001B[38;5;124;03m    \"\"\"\u001B[39;00m\n\u001B[0;32m--> 797\u001B[0m     \u001B[38;5;28;01mreturn\u001B[39;00m \u001B[38;5;28;43mself\u001B[39;49m\u001B[38;5;241;43m.\u001B[39;49m\u001B[43mvariable\u001B[49m\u001B[38;5;241;43m.\u001B[39;49m\u001B[43mvalues\u001B[49m\n",
      "File \u001B[0;32m~/miniconda3/envs/dl/lib/python3.10/site-packages/xarray/core/variable.py:530\u001B[0m, in \u001B[0;36mVariable.values\u001B[0;34m(self)\u001B[0m\n\u001B[1;32m    527\u001B[0m \u001B[38;5;129m@property\u001B[39m\n\u001B[1;32m    528\u001B[0m \u001B[38;5;28;01mdef\u001B[39;00m\u001B[38;5;250m \u001B[39m\u001B[38;5;21mvalues\u001B[39m(\u001B[38;5;28mself\u001B[39m) \u001B[38;5;241m-\u001B[39m\u001B[38;5;241m>\u001B[39m np\u001B[38;5;241m.\u001B[39mndarray:\n\u001B[1;32m    529\u001B[0m \u001B[38;5;250m    \u001B[39m\u001B[38;5;124;03m\"\"\"The variable's data as a numpy.ndarray\"\"\"\u001B[39;00m\n\u001B[0;32m--> 530\u001B[0m     \u001B[38;5;28;01mreturn\u001B[39;00m \u001B[43m_as_array_or_item\u001B[49m\u001B[43m(\u001B[49m\u001B[38;5;28;43mself\u001B[39;49m\u001B[38;5;241;43m.\u001B[39;49m\u001B[43m_data\u001B[49m\u001B[43m)\u001B[49m\n",
      "File \u001B[0;32m~/miniconda3/envs/dl/lib/python3.10/site-packages/xarray/core/variable.py:315\u001B[0m, in \u001B[0;36m_as_array_or_item\u001B[0;34m(data)\u001B[0m\n\u001B[1;32m    301\u001B[0m \u001B[38;5;28;01mdef\u001B[39;00m\u001B[38;5;250m \u001B[39m\u001B[38;5;21m_as_array_or_item\u001B[39m(data):\n\u001B[1;32m    302\u001B[0m \u001B[38;5;250m    \u001B[39m\u001B[38;5;124;03m\"\"\"Return the given values as a numpy array, or as an individual item if\u001B[39;00m\n\u001B[1;32m    303\u001B[0m \u001B[38;5;124;03m    it's a 0d datetime64 or timedelta64 array.\u001B[39;00m\n\u001B[1;32m    304\u001B[0m \n\u001B[0;32m   (...)\u001B[0m\n\u001B[1;32m    313\u001B[0m \u001B[38;5;124;03m    TODO: remove this (replace with np.asarray) once these issues are fixed\u001B[39;00m\n\u001B[1;32m    314\u001B[0m \u001B[38;5;124;03m    \"\"\"\u001B[39;00m\n\u001B[0;32m--> 315\u001B[0m     data \u001B[38;5;241m=\u001B[39m \u001B[43mnp\u001B[49m\u001B[38;5;241;43m.\u001B[39;49m\u001B[43masarray\u001B[49m\u001B[43m(\u001B[49m\u001B[43mdata\u001B[49m\u001B[43m)\u001B[49m\n\u001B[1;32m    316\u001B[0m     \u001B[38;5;28;01mif\u001B[39;00m data\u001B[38;5;241m.\u001B[39mndim \u001B[38;5;241m==\u001B[39m \u001B[38;5;241m0\u001B[39m:\n\u001B[1;32m    317\u001B[0m         kind \u001B[38;5;241m=\u001B[39m data\u001B[38;5;241m.\u001B[39mdtype\u001B[38;5;241m.\u001B[39mkind\n",
      "File \u001B[0;32m~/miniconda3/envs/dl/lib/python3.10/site-packages/xarray/core/indexing.py:511\u001B[0m, in \u001B[0;36mExplicitlyIndexed.__array__\u001B[0;34m(self, dtype, copy)\u001B[0m\n\u001B[1;32m    506\u001B[0m \u001B[38;5;28;01mdef\u001B[39;00m\u001B[38;5;250m \u001B[39m\u001B[38;5;21m__array__\u001B[39m(\n\u001B[1;32m    507\u001B[0m     \u001B[38;5;28mself\u001B[39m, dtype: np\u001B[38;5;241m.\u001B[39mtyping\u001B[38;5;241m.\u001B[39mDTypeLike \u001B[38;5;241m=\u001B[39m \u001B[38;5;28;01mNone\u001B[39;00m, \u001B[38;5;241m/\u001B[39m, \u001B[38;5;241m*\u001B[39m, copy: \u001B[38;5;28mbool\u001B[39m \u001B[38;5;241m|\u001B[39m \u001B[38;5;28;01mNone\u001B[39;00m \u001B[38;5;241m=\u001B[39m \u001B[38;5;28;01mNone\u001B[39;00m\n\u001B[1;32m    508\u001B[0m ) \u001B[38;5;241m-\u001B[39m\u001B[38;5;241m>\u001B[39m np\u001B[38;5;241m.\u001B[39mndarray:\n\u001B[1;32m    509\u001B[0m     \u001B[38;5;66;03m# Leave casting to an array up to the underlying array type.\u001B[39;00m\n\u001B[1;32m    510\u001B[0m     \u001B[38;5;28;01mif\u001B[39;00m Version(np\u001B[38;5;241m.\u001B[39m__version__) \u001B[38;5;241m>\u001B[39m\u001B[38;5;241m=\u001B[39m Version(\u001B[38;5;124m\"\u001B[39m\u001B[38;5;124m2.0.0\u001B[39m\u001B[38;5;124m\"\u001B[39m):\n\u001B[0;32m--> 511\u001B[0m         \u001B[38;5;28;01mreturn\u001B[39;00m np\u001B[38;5;241m.\u001B[39masarray(\u001B[38;5;28;43mself\u001B[39;49m\u001B[38;5;241;43m.\u001B[39;49m\u001B[43mget_duck_array\u001B[49m\u001B[43m(\u001B[49m\u001B[43m)\u001B[49m, dtype\u001B[38;5;241m=\u001B[39mdtype, copy\u001B[38;5;241m=\u001B[39mcopy)\n\u001B[1;32m    512\u001B[0m     \u001B[38;5;28;01melse\u001B[39;00m:\n\u001B[1;32m    513\u001B[0m         \u001B[38;5;28;01mreturn\u001B[39;00m np\u001B[38;5;241m.\u001B[39masarray(\u001B[38;5;28mself\u001B[39m\u001B[38;5;241m.\u001B[39mget_duck_array(), dtype\u001B[38;5;241m=\u001B[39mdtype)\n",
      "File \u001B[0;32m~/miniconda3/envs/dl/lib/python3.10/site-packages/xarray/core/indexing.py:845\u001B[0m, in \u001B[0;36mMemoryCachedArray.get_duck_array\u001B[0;34m(self)\u001B[0m\n\u001B[1;32m    844\u001B[0m \u001B[38;5;28;01mdef\u001B[39;00m\u001B[38;5;250m \u001B[39m\u001B[38;5;21mget_duck_array\u001B[39m(\u001B[38;5;28mself\u001B[39m):\n\u001B[0;32m--> 845\u001B[0m     \u001B[38;5;28;43mself\u001B[39;49m\u001B[38;5;241;43m.\u001B[39;49m\u001B[43m_ensure_cached\u001B[49m\u001B[43m(\u001B[49m\u001B[43m)\u001B[49m\n\u001B[1;32m    846\u001B[0m     \u001B[38;5;28;01mreturn\u001B[39;00m \u001B[38;5;28mself\u001B[39m\u001B[38;5;241m.\u001B[39marray\u001B[38;5;241m.\u001B[39mget_duck_array()\n",
      "File \u001B[0;32m~/miniconda3/envs/dl/lib/python3.10/site-packages/xarray/core/indexing.py:842\u001B[0m, in \u001B[0;36mMemoryCachedArray._ensure_cached\u001B[0;34m(self)\u001B[0m\n\u001B[1;32m    841\u001B[0m \u001B[38;5;28;01mdef\u001B[39;00m\u001B[38;5;250m \u001B[39m\u001B[38;5;21m_ensure_cached\u001B[39m(\u001B[38;5;28mself\u001B[39m):\n\u001B[0;32m--> 842\u001B[0m     \u001B[38;5;28mself\u001B[39m\u001B[38;5;241m.\u001B[39marray \u001B[38;5;241m=\u001B[39m as_indexable(\u001B[38;5;28;43mself\u001B[39;49m\u001B[38;5;241;43m.\u001B[39;49m\u001B[43marray\u001B[49m\u001B[38;5;241;43m.\u001B[39;49m\u001B[43mget_duck_array\u001B[49m\u001B[43m(\u001B[49m\u001B[43m)\u001B[49m)\n",
      "File \u001B[0;32m~/miniconda3/envs/dl/lib/python3.10/site-packages/xarray/core/indexing.py:799\u001B[0m, in \u001B[0;36mCopyOnWriteArray.get_duck_array\u001B[0;34m(self)\u001B[0m\n\u001B[1;32m    798\u001B[0m \u001B[38;5;28;01mdef\u001B[39;00m\u001B[38;5;250m \u001B[39m\u001B[38;5;21mget_duck_array\u001B[39m(\u001B[38;5;28mself\u001B[39m):\n\u001B[0;32m--> 799\u001B[0m     \u001B[38;5;28;01mreturn\u001B[39;00m \u001B[38;5;28;43mself\u001B[39;49m\u001B[38;5;241;43m.\u001B[39;49m\u001B[43marray\u001B[49m\u001B[38;5;241;43m.\u001B[39;49m\u001B[43mget_duck_array\u001B[49m\u001B[43m(\u001B[49m\u001B[43m)\u001B[49m\n",
      "File \u001B[0;32m~/miniconda3/envs/dl/lib/python3.10/site-packages/xarray/core/indexing.py:654\u001B[0m, in \u001B[0;36mLazilyIndexedArray.get_duck_array\u001B[0;34m(self)\u001B[0m\n\u001B[1;32m    650\u001B[0m     array \u001B[38;5;241m=\u001B[39m apply_indexer(\u001B[38;5;28mself\u001B[39m\u001B[38;5;241m.\u001B[39marray, \u001B[38;5;28mself\u001B[39m\u001B[38;5;241m.\u001B[39mkey)\n\u001B[1;32m    651\u001B[0m \u001B[38;5;28;01melse\u001B[39;00m:\n\u001B[1;32m    652\u001B[0m     \u001B[38;5;66;03m# If the array is not an ExplicitlyIndexedNDArrayMixin,\u001B[39;00m\n\u001B[1;32m    653\u001B[0m     \u001B[38;5;66;03m# it may wrap a BackendArray so use its __getitem__\u001B[39;00m\n\u001B[0;32m--> 654\u001B[0m     array \u001B[38;5;241m=\u001B[39m \u001B[38;5;28;43mself\u001B[39;49m\u001B[38;5;241;43m.\u001B[39;49m\u001B[43marray\u001B[49m\u001B[43m[\u001B[49m\u001B[38;5;28;43mself\u001B[39;49m\u001B[38;5;241;43m.\u001B[39;49m\u001B[43mkey\u001B[49m\u001B[43m]\u001B[49m\n\u001B[1;32m    656\u001B[0m \u001B[38;5;66;03m# self.array[self.key] is now a numpy array when\u001B[39;00m\n\u001B[1;32m    657\u001B[0m \u001B[38;5;66;03m# self.array is a BackendArray subclass\u001B[39;00m\n\u001B[1;32m    658\u001B[0m \u001B[38;5;66;03m# and self.key is BasicIndexer((slice(None, None, None),))\u001B[39;00m\n\u001B[1;32m    659\u001B[0m \u001B[38;5;66;03m# so we need the explicit check for ExplicitlyIndexed\u001B[39;00m\n\u001B[1;32m    660\u001B[0m \u001B[38;5;28;01mif\u001B[39;00m \u001B[38;5;28misinstance\u001B[39m(array, ExplicitlyIndexed):\n",
      "File \u001B[0;32m~/miniconda3/envs/dl/lib/python3.10/site-packages/xarray/backends/netCDF4_.py:103\u001B[0m, in \u001B[0;36mNetCDF4ArrayWrapper.__getitem__\u001B[0;34m(self, key)\u001B[0m\n\u001B[1;32m    102\u001B[0m \u001B[38;5;28;01mdef\u001B[39;00m\u001B[38;5;250m \u001B[39m\u001B[38;5;21m__getitem__\u001B[39m(\u001B[38;5;28mself\u001B[39m, key):\n\u001B[0;32m--> 103\u001B[0m     \u001B[38;5;28;01mreturn\u001B[39;00m \u001B[43mindexing\u001B[49m\u001B[38;5;241;43m.\u001B[39;49m\u001B[43mexplicit_indexing_adapter\u001B[49m\u001B[43m(\u001B[49m\n\u001B[1;32m    104\u001B[0m \u001B[43m        \u001B[49m\u001B[43mkey\u001B[49m\u001B[43m,\u001B[49m\u001B[43m \u001B[49m\u001B[38;5;28;43mself\u001B[39;49m\u001B[38;5;241;43m.\u001B[39;49m\u001B[43mshape\u001B[49m\u001B[43m,\u001B[49m\u001B[43m \u001B[49m\u001B[43mindexing\u001B[49m\u001B[38;5;241;43m.\u001B[39;49m\u001B[43mIndexingSupport\u001B[49m\u001B[38;5;241;43m.\u001B[39;49m\u001B[43mOUTER\u001B[49m\u001B[43m,\u001B[49m\u001B[43m \u001B[49m\u001B[38;5;28;43mself\u001B[39;49m\u001B[38;5;241;43m.\u001B[39;49m\u001B[43m_getitem\u001B[49m\n\u001B[1;32m    105\u001B[0m \u001B[43m    \u001B[49m\u001B[43m)\u001B[49m\n",
      "File \u001B[0;32m~/miniconda3/envs/dl/lib/python3.10/site-packages/xarray/core/indexing.py:1023\u001B[0m, in \u001B[0;36mexplicit_indexing_adapter\u001B[0;34m(key, shape, indexing_support, raw_indexing_method)\u001B[0m\n\u001B[1;32m   1001\u001B[0m \u001B[38;5;250m\u001B[39m\u001B[38;5;124;03m\"\"\"Support explicit indexing by delegating to a raw indexing method.\u001B[39;00m\n\u001B[1;32m   1002\u001B[0m \n\u001B[1;32m   1003\u001B[0m \u001B[38;5;124;03mOuter and/or vectorized indexers are supported by indexing a second time\u001B[39;00m\n\u001B[0;32m   (...)\u001B[0m\n\u001B[1;32m   1020\u001B[0m \u001B[38;5;124;03mIndexing result, in the form of a duck numpy-array.\u001B[39;00m\n\u001B[1;32m   1021\u001B[0m \u001B[38;5;124;03m\"\"\"\u001B[39;00m\n\u001B[1;32m   1022\u001B[0m raw_key, numpy_indices \u001B[38;5;241m=\u001B[39m decompose_indexer(key, shape, indexing_support)\n\u001B[0;32m-> 1023\u001B[0m result \u001B[38;5;241m=\u001B[39m \u001B[43mraw_indexing_method\u001B[49m\u001B[43m(\u001B[49m\u001B[43mraw_key\u001B[49m\u001B[38;5;241;43m.\u001B[39;49m\u001B[43mtuple\u001B[49m\u001B[43m)\u001B[49m\n\u001B[1;32m   1024\u001B[0m \u001B[38;5;28;01mif\u001B[39;00m numpy_indices\u001B[38;5;241m.\u001B[39mtuple:\n\u001B[1;32m   1025\u001B[0m     \u001B[38;5;66;03m# index the loaded duck array\u001B[39;00m\n\u001B[1;32m   1026\u001B[0m     indexable \u001B[38;5;241m=\u001B[39m as_indexable(result)\n",
      "File \u001B[0;32m~/miniconda3/envs/dl/lib/python3.10/site-packages/xarray/backends/netCDF4_.py:116\u001B[0m, in \u001B[0;36mNetCDF4ArrayWrapper._getitem\u001B[0;34m(self, key)\u001B[0m\n\u001B[1;32m    114\u001B[0m     \u001B[38;5;28;01mwith\u001B[39;00m \u001B[38;5;28mself\u001B[39m\u001B[38;5;241m.\u001B[39mdatastore\u001B[38;5;241m.\u001B[39mlock:\n\u001B[1;32m    115\u001B[0m         original_array \u001B[38;5;241m=\u001B[39m \u001B[38;5;28mself\u001B[39m\u001B[38;5;241m.\u001B[39mget_array(needs_lock\u001B[38;5;241m=\u001B[39m\u001B[38;5;28;01mFalse\u001B[39;00m)\n\u001B[0;32m--> 116\u001B[0m         array \u001B[38;5;241m=\u001B[39m \u001B[43mgetitem\u001B[49m\u001B[43m(\u001B[49m\u001B[43moriginal_array\u001B[49m\u001B[43m,\u001B[49m\u001B[43m \u001B[49m\u001B[43mkey\u001B[49m\u001B[43m)\u001B[49m\n\u001B[1;32m    117\u001B[0m \u001B[38;5;28;01mexcept\u001B[39;00m \u001B[38;5;167;01mIndexError\u001B[39;00m \u001B[38;5;28;01mas\u001B[39;00m err:\n\u001B[1;32m    118\u001B[0m     \u001B[38;5;66;03m# Catch IndexError in netCDF4 and return a more informative\u001B[39;00m\n\u001B[1;32m    119\u001B[0m     \u001B[38;5;66;03m# error message.  This is most often called when an unsorted\u001B[39;00m\n\u001B[1;32m    120\u001B[0m     \u001B[38;5;66;03m# indexer is used before the data is loaded from disk.\u001B[39;00m\n\u001B[1;32m    121\u001B[0m     msg \u001B[38;5;241m=\u001B[39m (\n\u001B[1;32m    122\u001B[0m         \u001B[38;5;124m\"\u001B[39m\u001B[38;5;124mThe indexing operation you are attempting to perform \u001B[39m\u001B[38;5;124m\"\u001B[39m\n\u001B[1;32m    123\u001B[0m         \u001B[38;5;124m\"\u001B[39m\u001B[38;5;124mis not valid on netCDF4.Variable object. Try loading \u001B[39m\u001B[38;5;124m\"\u001B[39m\n\u001B[1;32m    124\u001B[0m         \u001B[38;5;124m\"\u001B[39m\u001B[38;5;124myour data into memory first by calling .load().\u001B[39m\u001B[38;5;124m\"\u001B[39m\n\u001B[1;32m    125\u001B[0m     )\n",
      "\u001B[0;31mKeyboardInterrupt\u001B[0m: "
     ]
    }
   ],
   "execution_count": 6
  },
  {
   "metadata": {
    "ExecuteTime": {
     "end_time": "2025-06-30T11:20:52.359270Z",
     "start_time": "2025-06-30T11:20:18.901431Z"
    }
   },
   "cell_type": "code",
   "source": [
    "import xarray as xr\n",
    "import pandas as pd\n",
    "from datetime import datetime\n",
    "from pathlib import Path\n",
    "era5_dir = Path(\"/data1/jiyilun/typhoon/era5\")\n",
    "url = \"gs://weatherbench2/datasets/era5/1959-2023_01_10-wb13-6h-1440x721_with_derived_variables.zarr\"\n",
    "era5_ds = xr.open_zarr(url)"
   ],
   "id": "3675c5b783bd28db",
   "outputs": [],
   "execution_count": 1
  },
  {
   "metadata": {
    "ExecuteTime": {
     "end_time": "2025-06-30T11:26:08.528071Z",
     "start_time": "2025-06-30T11:24:41.285746Z"
    }
   },
   "cell_type": "code",
   "source": [
    "# 2022082500, 2022121212\n",
    "time_str = \"2022121212\"\n",
    "var_names = [\n",
    "    \"10m_u_component_of_wind\",\n",
    "    \"10m_v_component_of_wind\",\n",
    "    \"2m_temperature\",\n",
    "    \"mean_sea_level_pressure\",\n",
    "    \"temperature\",\n",
    "    \"u_component_of_wind\",\n",
    "    \"v_component_of_wind\",\n",
    "    \"specific_humidity\",\n",
    "    \"geopotential\",\n",
    "]\n",
    "\n",
    "ds_hour = era5_ds[var_names].sel(\n",
    "    time=pd.to_datetime(time_str, format=\"%Y%m%d%H\")\n",
    ").compute()"
   ],
   "id": "42ecf69b5773c8fe",
   "outputs": [],
   "execution_count": 4
  },
  {
   "metadata": {
    "ExecuteTime": {
     "end_time": "2025-06-30T11:28:05.718431Z",
     "start_time": "2025-06-30T11:28:05.283648Z"
    }
   },
   "cell_type": "code",
   "source": "ds_hour.to_netcdf(era5_dir / f\"{time_str}.nc\")",
   "id": "5307ba17968111b9",
   "outputs": [],
   "execution_count": 5
  },
  {
   "metadata": {},
   "cell_type": "code",
   "source": [
    "var_names = [\n",
    "    \"10m_u_component_of_wind\",\n",
    "    \"10m_v_component_of_wind\",\n",
    "    \"2m_temperature\",\n",
    "    \"mean_sea_level_pressure\",\n",
    "    \"temperature\",\n",
    "    \"u_component_of_wind\",\n",
    "    \"v_component_of_wind\",\n",
    "    \"specific_humidity\",\n",
    "    \"geopotential\",\n",
    "]\n",
    "print(era5_ds[\"geopotential\"].sel(\n",
    "        time=datetime(2018, 8, 5, 0)\n",
    "    ).isel(\n",
    "        longitude=slice(400, 720),\n",
    "        latitude=slice(121, 361)\n",
    "    ).values - era5_ds_hour[\"geopotential\"].values)"
   ],
   "id": "d44ff482aa7fdb2f",
   "outputs": [],
   "execution_count": null
  }
 ],
 "metadata": {
  "kernelspec": {
   "display_name": "Python 3",
   "language": "python",
   "name": "python3"
  },
  "language_info": {
   "codemirror_mode": {
    "name": "ipython",
    "version": 2
   },
   "file_extension": ".py",
   "mimetype": "text/x-python",
   "name": "python",
   "nbconvert_exporter": "python",
   "pygments_lexer": "ipython2",
   "version": "2.7.6"
  }
 },
 "nbformat": 4,
 "nbformat_minor": 5
}
